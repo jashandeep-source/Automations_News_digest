{
 "cells": [
  {
   "cell_type": "code",
   "execution_count": 26,
   "id": "edcbd425",
   "metadata": {},
   "outputs": [
    {
     "name": "stdout",
     "output_type": "stream",
     "text": [
      "Dataframe 1:\n",
      "           Company\n",
      "0       Apple Inc.\n",
      "1       Google LLC\n",
      "2  Microsoft Corp.\n",
      "3       Amazon.com\n",
      "4     Tesla Motors\n",
      "Dataframe 2:\n",
      "              Company\n",
      "0  Apple Incorporated\n",
      "1   Alphabet (Google)\n",
      "2           Microsoft\n",
      "3              Amazon\n",
      "4           Tesla Inc\n",
      "Merged Comapnies:\n",
      "              Company\n",
      "0          Apple Inc.\n",
      "1          Google LLC\n",
      "2     Microsoft Corp.\n",
      "3          Amazon.com\n",
      "4        Tesla Motors\n",
      "5  Apple Incorporated\n",
      "6   Alphabet (Google)\n",
      "7           Microsoft\n",
      "8              Amazon\n",
      "9           Tesla Inc\n",
      "Cleaned Dataframe:\n",
      "              Company\n",
      "0  Apple Incorporated\n",
      "1          Google LLC\n",
      "2     Microsoft Corp.\n",
      "3          Amazon.com\n",
      "4        Tesla Motors\n",
      "5   Alphabet (Google)\n",
      "6           Tesla Inc\n",
      "✅ Deduplicated companies saved to data/cleaned_companies.xlsx\n"
     ]
    }
   ],
   "source": [
    "import pandas as pd\n",
    "from rapidfuzz import process, fuzz\n",
    "\n",
    "# Load company data from two Excel files\n",
    "df1 = pd.read_excel(\"data/companies_data_1.xlsx\")\n",
    "print(\"Dataframe 1:\")\n",
    "print(df1)\n",
    "\n",
    "df2 = pd.read_excel(\"data/companies_data_2.xlsx\")\n",
    "print(\"Dataframe 2:\")\n",
    "print(df2)\n",
    "\n",
    "companies = pd.concat([df1, df2], ignore_index=True)\n",
    "\n",
    "print(\"Merged Comapnies:\")\n",
    "print(companies)\n",
    "\n",
    "companies = companies[\"Company\"].dropna().tolist()\n",
    "\n",
    "threshold = 60  # similarity threshold\n",
    "deduped = []\n",
    "\n",
    "while companies:\n",
    "    name = companies.pop(0)\n",
    "    similar = [name]\n",
    "    \n",
    "    # Find all similar names in the remaining list\n",
    "    matches = process.extract(\n",
    "        name, companies, scorer=fuzz.token_sort_ratio, score_cutoff=threshold\n",
    "    )\n",
    "    \n",
    "    for match in matches:\n",
    "        similar.append(match[0])\n",
    "        companies.remove(match[0])\n",
    "    \n",
    "    # Keep the longest/more complete name\n",
    "    best_name = max(similar, key=len)\n",
    "    deduped.append(best_name)\n",
    "\n",
    "# Save results\n",
    "cleaned_df = pd.DataFrame({\"Company\": deduped})\n",
    "\n",
    "print(\"Cleaned Dataframe:\")\n",
    "print(cleaned_df)\n",
    "\n",
    "cleaned_df.to_excel(\"data/cleaned_companies.xlsx\", index=False)\n",
    "\n",
    "print(\"✅ Deduplicated companies saved to data/cleaned_companies.xlsx\")"
   ]
  },
  {
   "cell_type": "code",
   "execution_count": 19,
   "id": "3f7fc33c",
   "metadata": {},
   "outputs": [
    {
     "name": "stdout",
     "output_type": "stream",
     "text": [
      "Deduplicated Company Names:\n",
      "['Google Inc.', 'Alphabet Inc.', 'Microsoft Corporation', 'Apple']\n"
     ]
    }
   ],
   "source": []
  },
  {
   "cell_type": "code",
   "execution_count": null,
   "id": "af7bcec4",
   "metadata": {},
   "outputs": [],
   "source": []
  }
 ],
 "metadata": {
  "kernelspec": {
   "display_name": "Python 3 (GPU)",
   "language": "python",
   "name": "ai_env"
  },
  "language_info": {
   "codemirror_mode": {
    "name": "ipython",
    "version": 3
   },
   "file_extension": ".py",
   "mimetype": "text/x-python",
   "name": "python",
   "nbconvert_exporter": "python",
   "pygments_lexer": "ipython3",
   "version": "3.11.0"
  }
 },
 "nbformat": 4,
 "nbformat_minor": 5
}
